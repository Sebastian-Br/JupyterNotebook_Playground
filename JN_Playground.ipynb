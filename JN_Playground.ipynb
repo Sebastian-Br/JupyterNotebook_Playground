{
 "cells": [
  {
   "cell_type": "code",
   "execution_count": 115,
   "id": "7a5afdc5-7143-45d4-92e9-19708206d62a",
   "metadata": {},
   "outputs": [],
   "source": [
    "import pandas as pd\n",
    "import os\n",
    "from IPython.display import IFrame\n",
    "import glob"
   ]
  },
  {
   "cell_type": "code",
   "execution_count": 116,
   "id": "5a56c400-a9f0-4c3b-87e5-740e3ca277c5",
   "metadata": {},
   "outputs": [],
   "source": [
    "directory_path = 'EmailsAsHTML/'"
   ]
  },
  {
   "cell_type": "code",
   "execution_count": 117,
   "id": "76386c6e-8099-422d-9ab7-3a3b585fa4f9",
   "metadata": {},
   "outputs": [],
   "source": [
    "html_files = glob.glob(os.path.join(directory_path, '*.html'))"
   ]
  },
  {
   "cell_type": "code",
   "execution_count": 118,
   "id": "ed7ae0fc-a278-4f5c-a9b5-eadbbfe7a1ba",
   "metadata": {},
   "outputs": [
    {
     "name": "stdout",
     "output_type": "stream",
     "text": [
      "['EmailsAsHTML\\\\Glückwunsch! Ihre Belohnung ist fertig, bestätigen Sie sie jetzt..html', 'EmailsAsHTML\\\\Your refund for 2x Corsair...html']\n"
     ]
    }
   ],
   "source": [
    "print(html_files)"
   ]
  },
  {
   "cell_type": "code",
   "execution_count": 119,
   "id": "717e0057-362f-4d2b-83b9-7b0bc6ceba6c",
   "metadata": {},
   "outputs": [],
   "source": [
    "IndicatorsOfCompromise = [\n",
    "    \"lidl_abteilung\",\n",
    "    \"ALEX MORGAN\",\n",
    "    \"ottopa.ch\",\n",
    "    \"__link@gmail.com\",\n",
    "    \"chenger.live\"\n",
    "]"
   ]
  },
  {
   "cell_type": "code",
   "execution_count": 120,
   "id": "a902b375-a60a-4a38-af69-db123d3be7a7",
   "metadata": {},
   "outputs": [],
   "source": [
    "def search_for_indicators(html_content):\n",
    "    compromised = False\n",
    "    for indicator in IndicatorsOfCompromise:\n",
    "        if indicator in html_content:\n",
    "            compromised = True\n",
    "            print(f\"Found indicator of compromise: {indicator}\")\n",
    "    return compromised"
   ]
  },
  {
   "cell_type": "code",
   "execution_count": 121,
   "id": "4b29bdff-3462-477e-ad1a-a3cf7457a89c",
   "metadata": {},
   "outputs": [
    {
     "data": {
      "text/html": [
       "\n",
       "        <iframe\n",
       "            width=\"100%\"\n",
       "            height=\"600px\"\n",
       "            src=\"EmailsAsHTML\\Glückwunsch! Ihre Belohnung ist fertig, bestätigen Sie sie jetzt..html\"\n",
       "            frameborder=\"0\"\n",
       "            allowfullscreen\n",
       "            \n",
       "        ></iframe>\n",
       "        "
      ],
      "text/plain": [
       "<IPython.lib.display.IFrame at 0x17d28b8f710>"
      ]
     },
     "metadata": {},
     "output_type": "display_data"
    },
    {
     "name": "stdout",
     "output_type": "stream",
     "text": [
      "Found indicator of compromise: lidl_abteilung\n",
      "Found indicator of compromise: ALEX MORGAN\n",
      "Found indicator of compromise: ottopa.ch\n",
      "Found indicator of compromise: __link@gmail.com\n",
      "Found indicator of compromise: chenger.live\n"
     ]
    },
    {
     "data": {
      "text/html": [
       "\n",
       "        <iframe\n",
       "            width=\"100%\"\n",
       "            height=\"600px\"\n",
       "            src=\"EmailsAsHTML\\Your refund for 2x Corsair...html\"\n",
       "            frameborder=\"0\"\n",
       "            allowfullscreen\n",
       "            \n",
       "        ></iframe>\n",
       "        "
      ],
      "text/plain": [
       "<IPython.lib.display.IFrame at 0x17d28b8c2c0>"
      ]
     },
     "metadata": {},
     "output_type": "display_data"
    },
    {
     "name": "stdout",
     "output_type": "stream",
     "text": [
      "The HTML file 'EmailsAsHTML\\Your refund for 2x Corsair...html' does not contain indicators of compromise.\n",
      "\n"
     ]
    }
   ],
   "source": [
    "for html_file in html_files:\n",
    "    display(IFrame(src=html_file, width='100%', height='600px'))\n",
    "    \n",
    "    with open(html_file, 'r', encoding=\"utf-8\") as file:\n",
    "        html_content = file.read()\n",
    "        if not search_for_indicators(html_content):\n",
    "            print(f\"The HTML file '{html_file}' does not contain indicators of compromise.\\n\")"
   ]
  }
 ],
 "metadata": {
  "kernelspec": {
   "display_name": "Python 3 (ipykernel)",
   "language": "python",
   "name": "python3"
  },
  "language_info": {
   "codemirror_mode": {
    "name": "ipython",
    "version": 3
   },
   "file_extension": ".py",
   "mimetype": "text/x-python",
   "name": "python",
   "nbconvert_exporter": "python",
   "pygments_lexer": "ipython3",
   "version": "3.12.2"
  }
 },
 "nbformat": 4,
 "nbformat_minor": 5
}
